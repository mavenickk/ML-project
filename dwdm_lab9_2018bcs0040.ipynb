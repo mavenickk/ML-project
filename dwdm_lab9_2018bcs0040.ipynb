{
  "nbformat": 4,
  "nbformat_minor": 0,
  "metadata": {
    "kernelspec": {
      "display_name": "Python 3",
      "language": "python",
      "name": "python3"
    },
    "language_info": {
      "codemirror_mode": {
        "name": "ipython",
        "version": 3
      },
      "file_extension": ".py",
      "mimetype": "text/x-python",
      "name": "python",
      "nbconvert_exporter": "python",
      "pygments_lexer": "ipython3",
      "version": "3.8.3"
    },
    "colab": {
      "name": "dwdm_lab9_2018bcs0040.ipynb",
      "provenance": []
    }
  },
  "cells": [
    {
      "cell_type": "markdown",
      "metadata": {
        "id": "4-s3V4dkfkUd"
      },
      "source": [
        "#Nikhil Kumar\n",
        "#2018bcs0040"
      ]
    },
    {
      "cell_type": "markdown",
      "metadata": {
        "id": "_UNRdOaWfdcV"
      },
      "source": [
        "# Implementing K-medoids algorithm"
      ]
    },
    {
      "cell_type": "code",
      "metadata": {
        "id": "xlJ0mb6ZfdcX"
      },
      "source": [
        "from scipy.sparse import csr_matrix\n",
        "import numpy as np\n",
        "import random\n",
        "\n",
        "class KMedoids:\n",
        "    def __init__(self, n_cluster=2, max_iter=10, tol=0.1, start_prob=0.8, end_prob=0.99):\n",
        "        if start_prob < 0 or start_prob >= 1 or end_prob < 0 or end_prob >= 1 or start_prob > end_prob:\n",
        "            raise ValueError('Invalid input')\n",
        "        self.n_cluster = n_cluster\n",
        "        self.max_iter = max_iter\n",
        "        self.tol = tol\n",
        "        self.start_prob = start_prob\n",
        "        self.end_prob = end_prob\n",
        "        \n",
        "        self.medoids = []\n",
        "        self.clusters = {}\n",
        "        self.tol_reached = float('inf')\n",
        "        self.current_distance = 0\n",
        "        \n",
        "        self.__data = None\n",
        "        self.__is_csr = None\n",
        "        self.__rows = 0\n",
        "        self.__columns = 0\n",
        "        self.cluster_distances = {}\n",
        "        \n",
        "        \n",
        "    def fit(self, data):\n",
        "        self.__data = data\n",
        "        self.__set_data_type()     \n",
        "        self.__start_algo()\n",
        "        return self\n",
        "    \n",
        "    def __start_algo(self):\n",
        "        self.__initialize_medoids()\n",
        "        self.clusters, self.cluster_distances = self.__calculate_clusters(self.medoids)\n",
        "        self.__update_clusters()\n",
        " \n",
        "    def __update_clusters(self):\n",
        "        for i in range(self.max_iter):\n",
        "            cluster_dist_with_new_medoids = self.__swap_and_recalculate_clusters()\n",
        "            if self.__is_new_cluster_dist_small(cluster_dist_with_new_medoids) == True:\n",
        "                self.clusters, self.cluster_distances = self.__calculate_clusters(self.medoids)\n",
        "            else:\n",
        "                break\n",
        "\n",
        "    def __is_new_cluster_dist_small(self, cluster_dist_with_new_medoids):\n",
        "        existance_dist = self.calculate_distance_of_clusters()\n",
        "        new_dist = self.calculate_distance_of_clusters(cluster_dist_with_new_medoids)\n",
        "        \n",
        "        if existance_dist > new_dist and (existance_dist - new_dist) > self.tol:\n",
        "            self.medoids = cluster_dist_with_new_medoids.keys()\n",
        "            return True\n",
        "        return False\n",
        "    \n",
        "    def calculate_distance_of_clusters(self, cluster_dist=None):\n",
        "        if cluster_dist == None:\n",
        "            cluster_dist = self.cluster_distances\n",
        "        dist = 0\n",
        "        for medoid in cluster_dist.keys():\n",
        "            dist += cluster_dist[medoid]\n",
        "        return dist\n",
        "        \n",
        "    def __swap_and_recalculate_clusters(self):\n",
        "        cluster_dist = {}\n",
        "        for medoid in self.medoids:\n",
        "            is_shortest_medoid_found = False\n",
        "            for data_index in self.clusters[medoid]:\n",
        "                if data_index != medoid:\n",
        "                    cluster_list = list(self.clusters[medoid])\n",
        "                    cluster_list[self.clusters[medoid].index(data_index)] = medoid\n",
        "                    new_distance = self.calculate_inter_cluster_distance(data_index, cluster_list)\n",
        "                    if new_distance < self.cluster_distances[medoid]:\n",
        "                        cluster_dist[data_index] = new_distance\n",
        "                        is_shortest_medoid_found = True\n",
        "                        break\n",
        "            if is_shortest_medoid_found == False:\n",
        "                cluster_dist[medoid] = self.cluster_distances[medoid]\n",
        "        return cluster_dist\n",
        "    \n",
        "    def calculate_inter_cluster_distance(self, medoid, cluster_list):\n",
        "        distance = 0\n",
        "        for data_index in cluster_list:\n",
        "            distance += self.__get_distance(medoid, data_index)\n",
        "        return distance/len(cluster_list)\n",
        "        \n",
        "    def __calculate_clusters(self, medoids):\n",
        "        clusters = {}\n",
        "        cluster_distances = {}\n",
        "        for medoid in medoids:\n",
        "            clusters[medoid] = []\n",
        "            cluster_distances[medoid] = 0\n",
        "            \n",
        "        for row in range(self.__rows):\n",
        "            nearest_medoid, nearest_distance = self.__get_shortest_distance_to_mediod(row, medoids)\n",
        "            cluster_distances[nearest_medoid] += nearest_distance\n",
        "            clusters[nearest_medoid].append(row)\n",
        "        \n",
        "        for medoid in medoids:\n",
        "            cluster_distances[medoid] /= len(clusters[medoid])\n",
        "        return clusters, cluster_distances\n",
        "        \n",
        "        \n",
        "    def __get_shortest_distance_to_mediod(self, row_index, medoids):\n",
        "        min_distance = float('inf')\n",
        "        current_medoid = None\n",
        "        \n",
        "        for medoid in medoids:\n",
        "            current_distance = self.__get_distance(medoid, row_index)\n",
        "            if current_distance < min_distance:\n",
        "                min_distance = current_distance\n",
        "                current_medoid = medoid\n",
        "        return current_medoid, min_distance\n",
        "\n",
        "    def __initialize_medoids(self):\n",
        "        '''Kmeans++ initialisation'''\n",
        "        self.medoids.append(random.randint(0,self.__rows-1))\n",
        "        while len(self.medoids) != self.n_cluster:\n",
        "            self.medoids.append(self.__find_distant_medoid())\n",
        "    \n",
        "    def __find_distant_medoid(self):\n",
        "        distances = []\n",
        "        indices = []\n",
        "        for row in range(self.__rows):\n",
        "            indices.append(row)\n",
        "            distances.append(self.__get_shortest_distance_to_mediod(row,self.medoids)[1])\n",
        "        distances_index = np.argsort(distances)\n",
        "        choosen_dist = self.__select_distant_medoid(distances_index)\n",
        "        return indices[choosen_dist]\n",
        "    \n",
        "    def __select_distant_medoid(self, distances_index):\n",
        "        start_index = round(self.start_prob*len(distances_index))\n",
        "        end_index = round(self.end_prob*(len(distances_index)-1)) \n",
        "        return distances_index[random.randint(start_index, end_index)]\n",
        "\n",
        "                           \n",
        "    def __get_distance(self, x1, x2):\n",
        "        a = self.__data[x1].toarray() if self.__is_csr == True else np.array(self.__data[x1])\n",
        "        b = self.__data[x2].toarray() if self.__is_csr == True else np.array(self.__data[x2])\n",
        "        return np.linalg.norm(a-b)\n",
        "    \n",
        "    def __set_data_type(self):\n",
        "        '''to check whether the given input is of type \"list\" or \"csr\" '''\n",
        "        if isinstance(self.__data,csr_matrix):\n",
        "            self.__is_csr = True\n",
        "            self.__rows = self.__data.shape[0]\n",
        "            self.__columns = self.__data.shape[1]\n",
        "        elif isinstance(self.__data,list):\n",
        "            self.__is_csr = False\n",
        "            self.__rows = len(self.__data)\n",
        "            self.__columns = len(self.__data[0])\n",
        "        else:\n",
        "            raise ValueError('Invalid input')    "
      ],
      "execution_count": 3,
      "outputs": []
    },
    {
      "cell_type": "code",
      "metadata": {
        "colab": {
          "base_uri": "https://localhost:8080/"
        },
        "id": "iWXxMbo2fdcc",
        "outputId": "03b95c76-143a-4a66-9cba-134cacfd93b5"
      },
      "source": [
        "data = [[4, 7], [5, 2], [8, 8], [0, 3], [9, 1], [2, 7], [3, 0], [7, 1], [8, 2], [4, 0]]\n",
        "k_medoids = KMedoids(n_cluster=2)\n",
        "k_medoids.fit(data)"
      ],
      "execution_count": 4,
      "outputs": [
        {
          "output_type": "execute_result",
          "data": {
            "text/plain": [
              "<__main__.KMedoids at 0x7f9d53453110>"
            ]
          },
          "metadata": {
            "tags": []
          },
          "execution_count": 4
        }
      ]
    },
    {
      "cell_type": "code",
      "metadata": {
        "id": "dQW3ZZbpfdce"
      },
      "source": [
        "import matplotlib.pyplot as plt"
      ],
      "execution_count": 5,
      "outputs": []
    },
    {
      "cell_type": "code",
      "metadata": {
        "id": "3UdddBAQfdce"
      },
      "source": [
        "\n",
        "def plot_graphs(data, k_medoids):\n",
        "    colors = {0:'b*', 1:'g^',2:'ro',3:'c*', 4:'m^', 5:'yo', 6:'ko', 7:'w*'}\n",
        "    index = 0\n",
        "    for key in k_medoids.clusters.keys():\n",
        "        temp_data = k_medoids.clusters[key]\n",
        "        x = [data[i][0] for i in temp_data]\n",
        "        y = [data[i][1] for i in temp_data]\n",
        "        plt.plot(x, y, colors[index])\n",
        "        index += 1\n",
        "    plt.title('Cluster formations')\n",
        "    plt.show()\n",
        "\n",
        "    medoid_data_points = []\n",
        "    for m in k_medoids.medoids:\n",
        "        medoid_data_points.append(data[m])   \n",
        "    x = [i[0] for i in data]\n",
        "    y = [i[1] for i in data]\n",
        "    x_ = [i[0] for i in medoid_data_points]\n",
        "    y_ = [i[1] for i in medoid_data_points]\n",
        "    plt.plot(x, y, 'yo')\n",
        "    plt.plot(x_, y_, 'r*')\n",
        "    plt.title('Mediods are highlighted in red')\n",
        "    plt.show()\n"
      ],
      "execution_count": 6,
      "outputs": []
    },
    {
      "cell_type": "code",
      "metadata": {
        "colab": {
          "base_uri": "https://localhost:8080/",
          "height": 513
        },
        "id": "4xFgtJ4cfdce",
        "outputId": "5746c328-db64-4033-b89e-f98ee7eb79e5"
      },
      "source": [
        "data_ = [\n",
        "    [5.2, 3.7],[5.1,4.1], [9., 1.2], [5, 3.7], [5.3, 4], [5.5, 3.8], [5,4], [4.7, 3.7], [7.8, 4], [4.7, 3.3], [5.2, 3.3],[4.9,3.4], [5.3,3.5]\n",
        "    ,[2.6, 1.5],[0.6, 10.2],[2.7, 1],[2.4,1.7],[2.6, 1.5],[2.7, 1.8], [2.1, 1.1], [9.2, 1.7], [5.3,8.8], [2.5, 11.3], [2.5,2]\n",
        "    , [3, 3.5], [3.5, 3.8], [3.3, 5.2], [4.5, 1.9], [4.3, 1.4], [4, 2]\n",
        "]\n",
        "n_clusters = range(2,8)\n",
        "k_medoids = [KMedoids(n_cluster=i) for i in n_clusters]\n",
        "k_medoids = [k_medoid.fit(data_) for k_medoid in k_medoids]\n",
        "loss = [k_medoid.calculate_distance_of_clusters() for k_medoid in k_medoids]\n",
        "\n",
        "\n",
        "plt.figure(figsize=(13,8))\n",
        "plt.plot(n_clusters,loss)\n",
        "plt.xticks(n_clusters)\n",
        "plt.xlabel('Number of Clusters')\n",
        "plt.ylabel('Loss')\n",
        "plt.title('Loss Vs No. Of clusters')\n",
        "plt.show()"
      ],
      "execution_count": 8,
      "outputs": [
        {
          "output_type": "display_data",
          "data": {
            "image/png": "[encoded data removed]",
            "text/plain": [
              "<Figure size 936x576 with 1 Axes>"
            ]
          },
          "metadata": {
            "tags": [],
            "needs_background": "light"
          }
        }
      ]
    },
    {
      "cell_type": "code",
      "metadata": {
        "colab": {
          "base_uri": "https://localhost:8080/",
          "height": 545
        },
        "id": "KtqYQGynfdcf",
        "outputId": "67bbdc24-6c18-4220-9434-bfdf8fc6a36f"
      },
      "source": [
        "k_medoids = KMedoids(n_cluster=2)\n",
        "k_medoids.fit(data_)\n",
        "plot_graphs(data_, k_medoids);"
      ],
      "execution_count": 9,
      "outputs": [
        {
          "output_type": "display_data",
          "data": {
            "image/png": "[encoded data removed]",
            "text/plain": [
              "<Figure size 432x288 with 1 Axes>"
            ]
          },
          "metadata": {
            "tags": [],
            "needs_background": "light"
          }
        },
        {
          "output_type": "display_data",
          "data": {
            "image/png": "[encoded data removed]",
            "text/plain": [
              "<Figure size 432x288 with 1 Axes>"
            ]
          },
          "metadata": {
            "tags": [],
            "needs_background": "light"
          }
        }
      ]
    },
    {
      "cell_type": "markdown",
      "metadata": {
        "id": "2AsNJQREfdcf"
      },
      "source": [
        "### Example"
      ]
    },
    {
      "cell_type": "code",
      "metadata": {
        "colab": {
          "base_uri": "https://localhost:8080/",
          "height": 545
        },
        "id": "aN7UNjKJfdcf",
        "outputId": "5ad34d2c-fa2f-451a-a5a9-d0ce488dbaa9"
      },
      "source": [
        "data =  [[4, 7], [5, 2], [8, 8], [0, 3], [9, 1], [2, 7], [3, 0], [7, 1], [8, 2], [4, 0]]\n",
        "k_medoids = KMedoids(n_cluster=2)\n",
        "k_medoids.fit(data)\n",
        "plot_graphs(data, k_medoids)"
      ],
      "execution_count": 10,
      "outputs": [
        {
          "output_type": "display_data",
          "data": {
            "image/png": "[encoded data removed]",
            "text/plain": [
              "<Figure size 432x288 with 1 Axes>"
            ]
          },
          "metadata": {
            "tags": [],
            "needs_background": "light"
          }
        },
        {
          "output_type": "display_data",
          "data": {
            "image/png": "[encoded data removed]",
            "text/plain": [
              "<Figure size 432x288 with 1 Axes>"
            ]
          },
          "metadata": {
            "tags": [],
            "needs_background": "light"
          }
        }
      ]
    },
    {
      "cell_type": "code",
      "metadata": {
        "id": "mh_QA7cqfdcg"
      },
      "source": [
        ""
      ],
      "execution_count": null,
      "outputs": []
    }
  ]
}
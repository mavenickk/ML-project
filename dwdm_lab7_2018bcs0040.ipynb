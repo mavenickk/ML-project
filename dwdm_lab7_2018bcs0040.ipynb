{
  "nbformat": 4,
  "nbformat_minor": 0,
  "metadata": {
    "kernelspec": {
      "display_name": "Python 3",
      "language": "python",
      "name": "python3"
    },
    "language_info": {
      "codemirror_mode": {
        "name": "ipython",
        "version": 3
      },
      "file_extension": ".py",
      "mimetype": "text/x-python",
      "name": "python",
      "nbconvert_exporter": "python",
      "pygments_lexer": "ipython3",
      "version": "3.8.3"
    },
    "colab": {
      "name": "dwdm_lab7_2018bcs0040.ipynb",
      "provenance": [],
      "toc_visible": true
    }
  },
  "cells": [
    {
      "cell_type": "markdown",
      "metadata": {
        "id": "TFazwM9IolLq"
      },
      "source": [
        "# Nikhil Kumar\n",
        "# 2018bcs0040"
      ]
    },
    {
      "cell_type": "code",
      "metadata": {
        "id": "4etuyBfqoVFg"
      },
      "source": [
        "import pandas as pd"
      ],
      "execution_count": 1,
      "outputs": []
    },
    {
      "cell_type": "code",
      "metadata": {
        "id": "u6O5e_kPoVFh"
      },
      "source": [
        "# creating Frequency Table\n",
        "def freq_tables(data):\n",
        "    table={}\n",
        "    y=data.columns[-1]\n",
        "    for i in data.columns[:-1]:\n",
        "        table[i]=data.groupby([i,y]).size()\n",
        "    table[y]=data[y].value_counts()\n",
        "    return table"
      ],
      "execution_count": 2,
      "outputs": []
    },
    {
      "cell_type": "code",
      "metadata": {
        "id": "t04Vkq-NoVFh"
      },
      "source": [
        "# function to get values of the frequency table\n",
        "def get_value(table,a,b):\n",
        "    try:\n",
        "        return table[a][b]\n",
        "    except:\n",
        "        return 0"
      ],
      "execution_count": 3,
      "outputs": []
    },
    {
      "cell_type": "code",
      "metadata": {
        "id": "5o5ikbwsoVFh"
      },
      "source": [
        "# Calculating Probability\n",
        "def prob(newdata,table,classes,x,y,total):\n",
        "    pred=[]\n",
        "    for i in classes:\n",
        "        res=table[y][i]/total\n",
        "        for j in x:\n",
        "            temp=get_value(table[j],newdata[j],i)\n",
        "            res*=temp/table[y][i]\n",
        "        pred.append(res)\n",
        "    return pred"
      ],
      "execution_count": 4,
      "outputs": []
    },
    {
      "cell_type": "code",
      "metadata": {
        "colab": {
          "base_uri": "https://localhost:8080/",
          "height": 462
        },
        "id": "m-_pL64HoVFi",
        "outputId": "0943ca2e-a474-42d7-d05d-5d3bdc425838"
      },
      "source": [
        "# reading Data\n",
        "data=pd.read_csv('tennis_dataset.csv').astype(str)\n",
        "data"
      ],
      "execution_count": 6,
      "outputs": [
        {
          "output_type": "execute_result",
          "data": {
            "text/html": [
              "<div>\n",
              "<style scoped>\n",
              "    .dataframe tbody tr th:only-of-type {\n",
              "        vertical-align: middle;\n",
              "    }\n",
              "\n",
              "    .dataframe tbody tr th {\n",
              "        vertical-align: top;\n",
              "    }\n",
              "\n",
              "    .dataframe thead th {\n",
              "        text-align: right;\n",
              "    }\n",
              "</style>\n",
              "<table border=\"1\" class=\"dataframe\">\n",
              "  <thead>\n",
              "    <tr style=\"text-align: right;\">\n",
              "      <th></th>\n",
              "      <th>day</th>\n",
              "      <th>outlook</th>\n",
              "      <th>temp</th>\n",
              "      <th>humidity</th>\n",
              "      <th>wind</th>\n",
              "      <th>play</th>\n",
              "    </tr>\n",
              "  </thead>\n",
              "  <tbody>\n",
              "    <tr>\n",
              "      <th>0</th>\n",
              "      <td>D1</td>\n",
              "      <td>Sunny</td>\n",
              "      <td>Hot</td>\n",
              "      <td>High</td>\n",
              "      <td>Weak</td>\n",
              "      <td>No</td>\n",
              "    </tr>\n",
              "    <tr>\n",
              "      <th>1</th>\n",
              "      <td>D2</td>\n",
              "      <td>Sunny</td>\n",
              "      <td>Hot</td>\n",
              "      <td>High</td>\n",
              "      <td>Strong</td>\n",
              "      <td>No</td>\n",
              "    </tr>\n",
              "    <tr>\n",
              "      <th>2</th>\n",
              "      <td>D3</td>\n",
              "      <td>Overcast</td>\n",
              "      <td>Hot</td>\n",
              "      <td>High</td>\n",
              "      <td>Weak</td>\n",
              "      <td>Yes</td>\n",
              "    </tr>\n",
              "    <tr>\n",
              "      <th>3</th>\n",
              "      <td>D4</td>\n",
              "      <td>Rain</td>\n",
              "      <td>Mild</td>\n",
              "      <td>High</td>\n",
              "      <td>Weak</td>\n",
              "      <td>Yes</td>\n",
              "    </tr>\n",
              "    <tr>\n",
              "      <th>4</th>\n",
              "      <td>D5</td>\n",
              "      <td>Rain</td>\n",
              "      <td>Cool</td>\n",
              "      <td>Normal</td>\n",
              "      <td>Weak</td>\n",
              "      <td>Yes</td>\n",
              "    </tr>\n",
              "    <tr>\n",
              "      <th>5</th>\n",
              "      <td>D6</td>\n",
              "      <td>Rain</td>\n",
              "      <td>Cool</td>\n",
              "      <td>Normal</td>\n",
              "      <td>Strong</td>\n",
              "      <td>No</td>\n",
              "    </tr>\n",
              "    <tr>\n",
              "      <th>6</th>\n",
              "      <td>D7</td>\n",
              "      <td>Overcast</td>\n",
              "      <td>Cool</td>\n",
              "      <td>Normal</td>\n",
              "      <td>Strong</td>\n",
              "      <td>Yes</td>\n",
              "    </tr>\n",
              "    <tr>\n",
              "      <th>7</th>\n",
              "      <td>D8</td>\n",
              "      <td>Sunny</td>\n",
              "      <td>Mild</td>\n",
              "      <td>High</td>\n",
              "      <td>Weak</td>\n",
              "      <td>No</td>\n",
              "    </tr>\n",
              "    <tr>\n",
              "      <th>8</th>\n",
              "      <td>D9</td>\n",
              "      <td>Sunny</td>\n",
              "      <td>Cool</td>\n",
              "      <td>Normal</td>\n",
              "      <td>Weak</td>\n",
              "      <td>Yes</td>\n",
              "    </tr>\n",
              "    <tr>\n",
              "      <th>9</th>\n",
              "      <td>D10</td>\n",
              "      <td>Rain</td>\n",
              "      <td>Mild</td>\n",
              "      <td>Normal</td>\n",
              "      <td>Weak</td>\n",
              "      <td>Yes</td>\n",
              "    </tr>\n",
              "    <tr>\n",
              "      <th>10</th>\n",
              "      <td>D11</td>\n",
              "      <td>Sunny</td>\n",
              "      <td>Mild</td>\n",
              "      <td>Normal</td>\n",
              "      <td>Strong</td>\n",
              "      <td>Yes</td>\n",
              "    </tr>\n",
              "    <tr>\n",
              "      <th>11</th>\n",
              "      <td>D12</td>\n",
              "      <td>Overcast</td>\n",
              "      <td>Mild</td>\n",
              "      <td>High</td>\n",
              "      <td>Strong</td>\n",
              "      <td>Yes</td>\n",
              "    </tr>\n",
              "    <tr>\n",
              "      <th>12</th>\n",
              "      <td>D13</td>\n",
              "      <td>Overcast</td>\n",
              "      <td>Hot</td>\n",
              "      <td>Normal</td>\n",
              "      <td>Weak</td>\n",
              "      <td>Yes</td>\n",
              "    </tr>\n",
              "    <tr>\n",
              "      <th>13</th>\n",
              "      <td>D14</td>\n",
              "      <td>Rain</td>\n",
              "      <td>Mild</td>\n",
              "      <td>High</td>\n",
              "      <td>Strong</td>\n",
              "      <td>No</td>\n",
              "    </tr>\n",
              "  </tbody>\n",
              "</table>\n",
              "</div>"
            ],
            "text/plain": [
              "    day   outlook  temp humidity    wind play\n",
              "0    D1     Sunny   Hot     High    Weak   No\n",
              "1    D2     Sunny   Hot     High  Strong   No\n",
              "2    D3  Overcast   Hot     High    Weak  Yes\n",
              "3    D4      Rain  Mild     High    Weak  Yes\n",
              "4    D5      Rain  Cool   Normal    Weak  Yes\n",
              "5    D6      Rain  Cool   Normal  Strong   No\n",
              "6    D7  Overcast  Cool   Normal  Strong  Yes\n",
              "7    D8     Sunny  Mild     High    Weak   No\n",
              "8    D9     Sunny  Cool   Normal    Weak  Yes\n",
              "9   D10      Rain  Mild   Normal    Weak  Yes\n",
              "10  D11     Sunny  Mild   Normal  Strong  Yes\n",
              "11  D12  Overcast  Mild     High  Strong  Yes\n",
              "12  D13  Overcast   Hot   Normal    Weak  Yes\n",
              "13  D14      Rain  Mild     High  Strong   No"
            ]
          },
          "metadata": {
            "tags": []
          },
          "execution_count": 6
        }
      ]
    },
    {
      "cell_type": "code",
      "metadata": {
        "id": "uVIYhR44oVFi"
      },
      "source": [
        "# x and y are the column names\n",
        "x=data.columns[:-1]\n",
        "y=data.columns[-1]\n",
        "total=len(data)"
      ],
      "execution_count": 7,
      "outputs": []
    },
    {
      "cell_type": "code",
      "metadata": {
        "colab": {
          "base_uri": "https://localhost:8080/"
        },
        "id": "Yp8usak9oVFj",
        "outputId": "00d8cbf0-5f83-4e56-c8b0-4d5bd7292ccf"
      },
      "source": [
        "# creating Frequency Table\n",
        "table=freq_tables(data)\n",
        "table"
      ],
      "execution_count": 8,
      "outputs": [
        {
          "output_type": "execute_result",
          "data": {
            "text/plain": [
              "{'day': day  play\n",
              " D1   No      1\n",
              " D10  Yes     1\n",
              " D11  Yes     1\n",
              " D12  Yes     1\n",
              " D13  Yes     1\n",
              " D14  No      1\n",
              " D2   No      1\n",
              " D3   Yes     1\n",
              " D4   Yes     1\n",
              " D5   Yes     1\n",
              " D6   No      1\n",
              " D7   Yes     1\n",
              " D8   No      1\n",
              " D9   Yes     1\n",
              " dtype: int64, 'humidity': humidity  play\n",
              " High      No      4\n",
              "           Yes     3\n",
              " Normal    No      1\n",
              "           Yes     6\n",
              " dtype: int64, 'outlook': outlook   play\n",
              " Overcast  Yes     4\n",
              " Rain      No      2\n",
              "           Yes     3\n",
              " Sunny     No      3\n",
              "           Yes     2\n",
              " dtype: int64, 'play': Yes    9\n",
              " No     5\n",
              " Name: play, dtype: int64, 'temp': temp  play\n",
              " Cool  No      1\n",
              "       Yes     3\n",
              " Hot   No      2\n",
              "       Yes     2\n",
              " Mild  No      2\n",
              "       Yes     4\n",
              " dtype: int64, 'wind': wind    play\n",
              " Strong  No      3\n",
              "         Yes     3\n",
              " Weak    No      2\n",
              "         Yes     6\n",
              " dtype: int64}"
            ]
          },
          "metadata": {
            "tags": []
          },
          "execution_count": 8
        }
      ]
    },
    {
      "cell_type": "code",
      "metadata": {
        "colab": {
          "base_uri": "https://localhost:8080/"
        },
        "id": "-BuCkIOyoVFj",
        "outputId": "774ba487-bd05-4514-f49f-84dfcb1f7c5c"
      },
      "source": [
        "# array of Classes\n",
        "classes=data[y].unique()\n",
        "classes"
      ],
      "execution_count": 9,
      "outputs": [
        {
          "output_type": "execute_result",
          "data": {
            "text/plain": [
              "array(['No', 'Yes'], dtype=object)"
            ]
          },
          "metadata": {
            "tags": []
          },
          "execution_count": 9
        }
      ]
    },
    {
      "cell_type": "code",
      "metadata": {
        "colab": {
          "base_uri": "https://localhost:8080/"
        },
        "id": "rU0Eos9JoVFj",
        "outputId": "f49a8f6d-9e1e-48f7-d51e-3cc21b8e22e1"
      },
      "source": [
        "# Inputting New Data to predict Class\n",
        "newdata={}\n",
        "for i in x:\n",
        "    newdata[i]=input(f\"Enter the value of {i}:\")\n",
        "newdata"
      ],
      "execution_count": 10,
      "outputs": [
        {
          "output_type": "stream",
          "text": [
            "Enter the value of day:2\n",
            "Enter the value of outlook:1\n",
            "Enter the value of temp:4\n",
            "Enter the value of humidity:1\n",
            "Enter the value of wind:6\n"
          ],
          "name": "stdout"
        },
        {
          "output_type": "execute_result",
          "data": {
            "text/plain": [
              "{'day': '2', 'humidity': '1', 'outlook': '1', 'temp': '4', 'wind': '6'}"
            ]
          },
          "metadata": {
            "tags": []
          },
          "execution_count": 10
        }
      ]
    },
    {
      "cell_type": "code",
      "metadata": {
        "colab": {
          "base_uri": "https://localhost:8080/"
        },
        "id": "HYPLaTzCoVFk",
        "outputId": "d01445d5-b7b8-41c3-ac26-61b0b1c89085"
      },
      "source": [
        "# Calculating Probability and predicting Class\n",
        "pred=prob(newdata,table,classes,x,y,total)\n",
        "print(f\"Predicted Class: {classes[pred.index(max(pred))]}\")"
      ],
      "execution_count": 11,
      "outputs": [
        {
          "output_type": "stream",
          "text": [
            "Predicted Class: No\n"
          ],
          "name": "stdout"
        }
      ]
    }
  ]
}
{
  "nbformat": 4,
  "nbformat_minor": 0,
  "metadata": {
    "colab": {
      "name": "Copy of Untitled0.ipynb",
      "provenance": [],
      "authorship_tag": "ABX9TyPiBuB9ZPaz8nKao2fNL858",
      "include_colab_link": true
    },
    "kernelspec": {
      "name": "python3",
      "display_name": "Python 3"
    }
  },
  "cells": [
    {
      "cell_type": "markdown",
      "metadata": {
        "id": "view-in-github",
        "colab_type": "text"
      },
      "source": [
        "<a href=\"https://colab.research.google.com/github/thenik2001/ML-project/blob/master/Copy_of_Untitled0.ipynb\" target=\"_parent\"><img src=\"https://colab.research.google.com/assets/colab-badge.svg\" alt=\"Open In Colab\"/></a>"
      ]
    },
    {
      "cell_type": "code",
      "metadata": {
        "id": "JOOnCp33xx62",
        "colab_type": "code",
        "colab": {}
      },
      "source": [
        "import tensorflow as tf\n",
        "tf.logging.set_verbosity(tf.logging.ERROR)\n",
        "import numpy as np"
      ],
      "execution_count": 0,
      "outputs": []
    },
    {
      "cell_type": "markdown",
      "metadata": {
        "id": "9JNGoO8ezZ_6",
        "colab_type": "text"
      },
      "source": [
        "\n",
        "\n",
        "setting up training data now\n",
        "\n"
      ]
    },
    {
      "cell_type": "code",
      "metadata": {
        "id": "-GJf1I6PzdN8",
        "colab_type": "code",
        "outputId": "4979fed1-ce5e-4479-82b3-eca1ca6b621b",
        "colab": {
          "base_uri": "https://localhost:8080/",
          "height": 185
        }
      },
      "source": [
        "celsius_train= np.array([-100,-95,50,-50,56,78,93,-6,43,11], dtype=float)\n",
        "fahrenheit_train= np.array([-148,-139,122,-58,168.8,172.4,199.4,21.2,109.4,51.8], dtype=float)\n",
        "for i,c in enumerate(celsius_train):\n",
        "  print(\"for {} celsius fahrenheit is: {}\".format(c,fahrenheit_train[i]))"
      ],
      "execution_count": 0,
      "outputs": [
        {
          "output_type": "stream",
          "text": [
            "for -100.0 celsius fahrenheit is: -148.0\n",
            "for -95.0 celsius fahrenheit is: -139.0\n",
            "for 50.0 celsius fahrenheit is: 122.0\n",
            "for -50.0 celsius fahrenheit is: -58.0\n",
            "for 56.0 celsius fahrenheit is: 168.8\n",
            "for 78.0 celsius fahrenheit is: 172.4\n",
            "for 93.0 celsius fahrenheit is: 199.4\n",
            "for -6.0 celsius fahrenheit is: 21.2\n",
            "for 43.0 celsius fahrenheit is: 109.4\n",
            "for 11.0 celsius fahrenheit is: 51.8\n"
          ],
          "name": "stdout"
        }
      ]
    },
    {
      "cell_type": "markdown",
      "metadata": {
        "id": "n5ivz-tp1YFs",
        "colab_type": "text"
      },
      "source": [
        "building a single dense layer to predict values"
      ]
    },
    {
      "cell_type": "code",
      "metadata": {
        "id": "oDl8aZkJ1caN",
        "colab_type": "code",
        "colab": {}
      },
      "source": [
        "l1=tf.keras.layers.Dense(units=1, input_shape=[1])"
      ],
      "execution_count": 0,
      "outputs": []
    },
    {
      "cell_type": "markdown",
      "metadata": {
        "id": "ntbCbJwb1yHT",
        "colab_type": "text"
      },
      "source": [
        "\n",
        "\n",
        "here **units** specifies the no. of neurons in the layer\n",
        "and **input_shape** implies that the input of this layer is a single value\n",
        "\n"
      ]
    },
    {
      "cell_type": "markdown",
      "metadata": {
        "id": "4b1gdmjs2Re0",
        "colab_type": "text"
      },
      "source": [
        "now assembling the layer into a model, we can assemble more than one layer as per our need "
      ]
    },
    {
      "cell_type": "code",
      "metadata": {
        "id": "3HvFIjIk2JxA",
        "colab_type": "code",
        "colab": {}
      },
      "source": [
        "model=tf.keras.Sequential(l1)"
      ],
      "execution_count": 0,
      "outputs": []
    },
    {
      "cell_type": "markdown",
      "metadata": {
        "id": "1XfaQd_y2zLF",
        "colab_type": "text"
      },
      "source": [
        "\n",
        "\n",
        "now compiling the model with loss function and optimizer\n",
        "**loss function** is a way of measuring how far is the output from the desired output\n",
        "**optimizer** reduces the loss to make increase the accuracy\n",
        "\n"
      ]
    },
    {
      "cell_type": "code",
      "metadata": {
        "id": "iuIo6lfS3Pnk",
        "colab_type": "code",
        "colab": {}
      },
      "source": [
        "model.compile(loss='mean_squared_error',optimizer=tf.keras.optimizers.Adam(0.1))"
      ],
      "execution_count": 0,
      "outputs": []
    },
    {
      "cell_type": "markdown",
      "metadata": {
        "id": "L-BXWQgF3hqv",
        "colab_type": "text"
      },
      "source": [
        "\n",
        "\n",
        "the loss function \"root mean squared\" and the optimizer \"Adam\" used are the most standard elements used in such kind of simple problems\n",
        "\n",
        "\n",
        "**(0.1)** provided is teh step size taken in the optimization to improve the model, larger the value is lower the accuracy and if the value is much lower it'll take that much extra time to get trained\n",
        "\n"
      ]
    },
    {
      "cell_type": "markdown",
      "metadata": {
        "id": "4EDbBEKj4oOk",
        "colab_type": "text"
      },
      "source": [
        "**Train the model**\n",
        "\n",
        "calling fit method to train the model"
      ]
    },
    {
      "cell_type": "code",
      "metadata": {
        "id": "4Sre09YS4gcb",
        "colab_type": "code",
        "outputId": "2c155021-bfca-4fd1-fcd9-c025c990167e",
        "colab": {
          "base_uri": "https://localhost:8080/",
          "height": 34
        }
      },
      "source": [
        "history = model.fit(celsius_train,fahrenheit_train,epochs=500,verbose=False)\n",
        "print(\"finished model training\")"
      ],
      "execution_count": 0,
      "outputs": [
        {
          "output_type": "stream",
          "text": [
            "finished model training\n"
          ],
          "name": "stdout"
        }
      ]
    },
    {
      "cell_type": "markdown",
      "metadata": {
        "id": "zb3BHDKH5GTr",
        "colab_type": "text"
      },
      "source": [
        "Here 1 **epoch** is iterating through the given training set once, hence it controls how many times this cycle should run\n",
        "\n",
        "and **verbose** controls how much output the method produces"
      ]
    },
    {
      "cell_type": "markdown",
      "metadata": {
        "id": "fQNtbWKU5ufD",
        "colab_type": "text"
      },
      "source": [
        "**Displaying training stastics** using matplotlib\n",
        "\n"
      ]
    },
    {
      "cell_type": "code",
      "metadata": {
        "id": "mjGreDP45tJg",
        "colab_type": "code",
        "outputId": "3cfb7c87-7e85-493b-85dd-2538dd2972c2",
        "colab": {
          "base_uri": "https://localhost:8080/",
          "height": 296
        }
      },
      "source": [
        "import matplotlib.pyplot as plt\n",
        "plt.xlabel('Epoch no.')\n",
        "plt.ylabel('loss ')\n",
        "plt.plot(history.history['loss'])"
      ],
      "execution_count": 0,
      "outputs": [
        {
          "output_type": "execute_result",
          "data": {
            "text/plain": [
              "[<matplotlib.lines.Line2D at 0x7fa638893ef0>]"
            ]
          },
          "metadata": {
            "tags": []
          },
          "execution_count": 12
        },
        {
          "output_type": "display_data",
          "data": {
            "image/png": "[encoded data removed]",
            "text/plain": [
              "<Figure size 432x288 with 1 Axes>"
            ]
          },
          "metadata": {
            "tags": []
          }
        }
      ]
    },
    {
      "cell_type": "markdown",
      "metadata": {
        "id": "Zkc59fCR6eB5",
        "colab_type": "text"
      },
      "source": [
        "Now using **predict** model to check if our model is working perfectly or not"
      ]
    },
    {
      "cell_type": "code",
      "metadata": {
        "id": "vzLL1yjn6n0q",
        "colab_type": "code",
        "outputId": "a34c8c49-becd-48cc-baf5-89338b8f6a53",
        "colab": {
          "base_uri": "https://localhost:8080/",
          "height": 34
        }
      },
      "source": [
        "print(model.predict([60]))"
      ],
      "execution_count": 0,
      "outputs": [
        {
          "output_type": "stream",
          "text": [
            "[[142.01814]]\n"
          ],
          "name": "stdout"
        }
      ]
    },
    {
      "cell_type": "markdown",
      "metadata": {
        "id": "cSMmUzw-65pp",
        "colab_type": "text"
      },
      "source": [
        "the correct answer is 59*1.8+32= 138.2\n",
        "\n",
        "so the prediction is too close\n"
      ]
    },
    {
      "cell_type": "markdown",
      "metadata": {
        "id": "nK6GbPuE7VGw",
        "colab_type": "text"
      },
      "source": [
        "**looking at the layer weights now**"
      ]
    },
    {
      "cell_type": "code",
      "metadata": {
        "id": "189OJgMl7bK9",
        "colab_type": "code",
        "outputId": "f17bfb25-73c2-4b2e-9059-4c7888306f2e",
        "colab": {
          "base_uri": "https://localhost:8080/",
          "height": 34
        }
      },
      "source": [
        "print(\"layer variables are {}\".format(l1.get_weights()))"
      ],
      "execution_count": 0,
      "outputs": [
        {
          "output_type": "stream",
          "text": [
            "layer variables are [array([[1.8481642]], dtype=float32), array([30.813087], dtype=float32)]\n"
          ],
          "name": "stdout"
        }
      ]
    },
    {
      "cell_type": "markdown",
      "metadata": {
        "id": "iDADsYoS7tgx",
        "colab_type": "text"
      },
      "source": [
        "as we can see the variables are 1.84 and 30.81, which are pretty close to 1.8 and 32 so it is a good model"
      ]
    },
    {
      "cell_type": "markdown",
      "metadata": {
        "id": "1rnOIinU8A9n",
        "colab_type": "text"
      },
      "source": [
        "We can try for some more dense layers to see that accuracy increases or not"
      ]
    },
    {
      "cell_type": "code",
      "metadata": {
        "id": "FDSPToyd8Ki-",
        "colab_type": "code",
        "outputId": "bd8aab89-4206-4b04-877e-cb8770577c80",
        "colab": {
          "base_uri": "https://localhost:8080/",
          "height": 50
        }
      },
      "source": [
        "l1=tf.keras.layers.Dense(units=2,input_shape=[1])\n",
        "#l2=tf.keras.layers.Dense(units=2)\n",
        "l3=tf.keras.layers.Dense(units=1)\n",
        "model= tf.keras.Sequential([l1,l3])\n",
        "model.compile(loss='mean_squared_error',optimizer=tf.keras.optimizers.Adam(0.1))\n",
        "model.fit(celsius_train,fahrenheit_train,epochs=500,verbose=False)\n",
        "print(\"finished training model\")\n",
        "print(\"now prediction for 60\", model.predict([60.0]))                        "
      ],
      "execution_count": 0,
      "outputs": [
        {
          "output_type": "stream",
          "text": [
            "finished training model\n",
            "now prediction for 60 [[145.6765]]\n"
          ],
          "name": "stdout"
        }
      ]
    },
    {
      "cell_type": "markdown",
      "metadata": {
        "id": "17sQSk_o-Ziv",
        "colab_type": "text"
      },
      "source": [
        "So with increase and simple training set you can get more accuracy."
      ]
    }
  ]
}
